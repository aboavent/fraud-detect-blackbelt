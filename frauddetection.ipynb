{
 "cells": [
  {
   "cell_type": "code",
   "execution_count": 9,
   "metadata": {},
   "outputs": [
    {
     "name": "stdout",
     "output_type": "stream",
     "text": [
      "Requirement already satisfied: numpy in /home/ec2-user/anaconda3/envs/python3/lib/python3.6/site-packages (from -r requirements.txt (line 1)) (1.18.1)\n",
      "Requirement already satisfied: pandas in /home/ec2-user/anaconda3/envs/python3/lib/python3.6/site-packages (from -r requirements.txt (line 2)) (1.0.1)\n",
      "Requirement already satisfied: matplotlib in /home/ec2-user/anaconda3/envs/python3/lib/python3.6/site-packages (from -r requirements.txt (line 3)) (3.1.3)\n",
      "Requirement already satisfied: jupyter in /home/ec2-user/anaconda3/envs/python3/lib/python3.6/site-packages (from -r requirements.txt (line 4)) (1.0.0)\n",
      "Requirement already satisfied: boto3 in /home/ec2-user/anaconda3/envs/python3/lib/python3.6/site-packages (from -r requirements.txt (line 5)) (1.16.6)\n",
      "Requirement already satisfied: sagemaker in /home/ec2-user/anaconda3/envs/python3/lib/python3.6/site-packages (from -r requirements.txt (line 6)) (1.72.1)\n",
      "Requirement already satisfied: scikit-learn==0.23.1 in /home/ec2-user/anaconda3/envs/python3/lib/python3.6/site-packages (from -r requirements.txt (line 7)) (0.23.1)\n",
      "Requirement already satisfied: imbalanced-learn in /home/ec2-user/anaconda3/envs/python3/lib/python3.6/site-packages (from -r requirements.txt (line 8)) (0.7.0)\n",
      "Requirement already satisfied: category_encoders in /home/ec2-user/anaconda3/envs/python3/lib/python3.6/site-packages (from -r requirements.txt (line 9)) (2.2.2)\n",
      "Requirement already satisfied: seaborn in /home/ec2-user/anaconda3/envs/python3/lib/python3.6/site-packages (from -r requirements.txt (line 10)) (0.10.0)\n",
      "Requirement already satisfied: python-dateutil>=2.6.1 in /home/ec2-user/anaconda3/envs/python3/lib/python3.6/site-packages (from pandas->-r requirements.txt (line 2)) (2.8.1)\n",
      "Requirement already satisfied: pytz>=2017.2 in /home/ec2-user/anaconda3/envs/python3/lib/python3.6/site-packages (from pandas->-r requirements.txt (line 2)) (2019.3)\n",
      "Requirement already satisfied: cycler>=0.10 in /home/ec2-user/anaconda3/envs/python3/lib/python3.6/site-packages (from matplotlib->-r requirements.txt (line 3)) (0.10.0)\n",
      "Requirement already satisfied: kiwisolver>=1.0.1 in /home/ec2-user/anaconda3/envs/python3/lib/python3.6/site-packages (from matplotlib->-r requirements.txt (line 3)) (1.1.0)\n",
      "Requirement already satisfied: pyparsing!=2.0.4,!=2.1.2,!=2.1.6,>=2.0.1 in /home/ec2-user/anaconda3/envs/python3/lib/python3.6/site-packages (from matplotlib->-r requirements.txt (line 3)) (2.4.6)\n",
      "Requirement already satisfied: nbconvert in /home/ec2-user/anaconda3/envs/python3/lib/python3.6/site-packages (from jupyter->-r requirements.txt (line 4)) (5.6.1)\n",
      "Requirement already satisfied: ipywidgets in /home/ec2-user/anaconda3/envs/python3/lib/python3.6/site-packages (from jupyter->-r requirements.txt (line 4)) (7.5.1)\n",
      "Requirement already satisfied: notebook in /home/ec2-user/anaconda3/envs/python3/lib/python3.6/site-packages (from jupyter->-r requirements.txt (line 4)) (6.0.3)\n",
      "Requirement already satisfied: jupyter-console in /home/ec2-user/anaconda3/envs/python3/lib/python3.6/site-packages (from jupyter->-r requirements.txt (line 4)) (6.1.0)\n",
      "Requirement already satisfied: qtconsole in /home/ec2-user/anaconda3/envs/python3/lib/python3.6/site-packages (from jupyter->-r requirements.txt (line 4)) (4.6.0)\n",
      "Requirement already satisfied: ipykernel in /home/ec2-user/anaconda3/envs/python3/lib/python3.6/site-packages (from jupyter->-r requirements.txt (line 4)) (5.1.4)\n",
      "Requirement already satisfied: botocore<1.20.0,>=1.19.6 in /home/ec2-user/anaconda3/envs/python3/lib/python3.6/site-packages (from boto3->-r requirements.txt (line 5)) (1.19.6)\n",
      "Requirement already satisfied: s3transfer<0.4.0,>=0.3.0 in /home/ec2-user/anaconda3/envs/python3/lib/python3.6/site-packages (from boto3->-r requirements.txt (line 5)) (0.3.3)\n",
      "Requirement already satisfied: jmespath<1.0.0,>=0.7.1 in /home/ec2-user/anaconda3/envs/python3/lib/python3.6/site-packages (from boto3->-r requirements.txt (line 5)) (0.10.0)\n",
      "Requirement already satisfied: smdebug-rulesconfig==0.1.4 in /home/ec2-user/anaconda3/envs/python3/lib/python3.6/site-packages (from sagemaker->-r requirements.txt (line 6)) (0.1.4)\n",
      "Requirement already satisfied: importlib-metadata>=1.4.0 in /home/ec2-user/anaconda3/envs/python3/lib/python3.6/site-packages (from sagemaker->-r requirements.txt (line 6)) (1.5.0)\n",
      "Requirement already satisfied: protobuf>=3.1 in /home/ec2-user/anaconda3/envs/python3/lib/python3.6/site-packages (from sagemaker->-r requirements.txt (line 6)) (3.11.4)\n",
      "Requirement already satisfied: packaging>=20.0 in /home/ec2-user/anaconda3/envs/python3/lib/python3.6/site-packages (from sagemaker->-r requirements.txt (line 6)) (20.1)\n",
      "Requirement already satisfied: scipy>=0.19.0 in /home/ec2-user/anaconda3/envs/python3/lib/python3.6/site-packages (from sagemaker->-r requirements.txt (line 6)) (1.4.1)\n",
      "Requirement already satisfied: protobuf3-to-dict>=0.1.5 in /home/ec2-user/anaconda3/envs/python3/lib/python3.6/site-packages (from sagemaker->-r requirements.txt (line 6)) (0.1.5)\n",
      "Requirement already satisfied: threadpoolctl>=2.0.0 in /home/ec2-user/anaconda3/envs/python3/lib/python3.6/site-packages (from scikit-learn==0.23.1->-r requirements.txt (line 7)) (2.1.0)\n",
      "Requirement already satisfied: joblib>=0.11 in /home/ec2-user/anaconda3/envs/python3/lib/python3.6/site-packages (from scikit-learn==0.23.1->-r requirements.txt (line 7)) (0.14.1)\n",
      "Requirement already satisfied: statsmodels>=0.9.0 in /home/ec2-user/anaconda3/envs/python3/lib/python3.6/site-packages (from category_encoders->-r requirements.txt (line 9)) (0.11.0)\n",
      "Requirement already satisfied: patsy>=0.5.1 in /home/ec2-user/anaconda3/envs/python3/lib/python3.6/site-packages (from category_encoders->-r requirements.txt (line 9)) (0.5.1)\n",
      "Requirement already satisfied: six>=1.5 in /home/ec2-user/anaconda3/envs/python3/lib/python3.6/site-packages (from python-dateutil>=2.6.1->pandas->-r requirements.txt (line 2)) (1.14.0)\n",
      "Requirement already satisfied: setuptools in /home/ec2-user/anaconda3/envs/python3/lib/python3.6/site-packages (from kiwisolver>=1.0.1->matplotlib->-r requirements.txt (line 3)) (45.2.0.post20200210)\n",
      "Requirement already satisfied: mistune<2,>=0.8.1 in /home/ec2-user/anaconda3/envs/python3/lib/python3.6/site-packages (from nbconvert->jupyter->-r requirements.txt (line 4)) (0.8.4)\n",
      "Requirement already satisfied: testpath in /home/ec2-user/anaconda3/envs/python3/lib/python3.6/site-packages (from nbconvert->jupyter->-r requirements.txt (line 4)) (0.4.4)\n",
      "Requirement already satisfied: pygments in /home/ec2-user/anaconda3/envs/python3/lib/python3.6/site-packages (from nbconvert->jupyter->-r requirements.txt (line 4)) (2.5.2)\n",
      "Requirement already satisfied: jinja2>=2.4 in /home/ec2-user/anaconda3/envs/python3/lib/python3.6/site-packages (from nbconvert->jupyter->-r requirements.txt (line 4)) (2.11.1)\n",
      "Requirement already satisfied: entrypoints>=0.2.2 in /home/ec2-user/anaconda3/envs/python3/lib/python3.6/site-packages (from nbconvert->jupyter->-r requirements.txt (line 4)) (0.3)\n",
      "Requirement already satisfied: traitlets>=4.2 in /home/ec2-user/anaconda3/envs/python3/lib/python3.6/site-packages (from nbconvert->jupyter->-r requirements.txt (line 4)) (4.3.3)\n",
      "Requirement already satisfied: bleach in /home/ec2-user/anaconda3/envs/python3/lib/python3.6/site-packages (from nbconvert->jupyter->-r requirements.txt (line 4)) (3.2.1)\n",
      "Requirement already satisfied: pandocfilters>=1.4.1 in /home/ec2-user/anaconda3/envs/python3/lib/python3.6/site-packages (from nbconvert->jupyter->-r requirements.txt (line 4)) (1.4.2)\n",
      "Requirement already satisfied: jupyter-core in /home/ec2-user/anaconda3/envs/python3/lib/python3.6/site-packages (from nbconvert->jupyter->-r requirements.txt (line 4)) (4.6.1)\n",
      "Requirement already satisfied: nbformat>=4.4 in /home/ec2-user/anaconda3/envs/python3/lib/python3.6/site-packages (from nbconvert->jupyter->-r requirements.txt (line 4)) (5.0.4)\n",
      "Requirement already satisfied: defusedxml in /home/ec2-user/anaconda3/envs/python3/lib/python3.6/site-packages (from nbconvert->jupyter->-r requirements.txt (line 4)) (0.6.0)\n",
      "Requirement already satisfied: widgetsnbextension~=3.5.0 in /home/ec2-user/anaconda3/envs/python3/lib/python3.6/site-packages (from ipywidgets->jupyter->-r requirements.txt (line 4)) (3.5.1)\n",
      "Requirement already satisfied: ipython>=4.0.0; python_version >= \"3.3\" in /home/ec2-user/anaconda3/envs/python3/lib/python3.6/site-packages (from ipywidgets->jupyter->-r requirements.txt (line 4)) (7.12.0)\n",
      "Requirement already satisfied: tornado>=5.0 in /home/ec2-user/anaconda3/envs/python3/lib/python3.6/site-packages (from notebook->jupyter->-r requirements.txt (line 4)) (6.0.3)\n",
      "Requirement already satisfied: ipython-genutils in /home/ec2-user/anaconda3/envs/python3/lib/python3.6/site-packages (from notebook->jupyter->-r requirements.txt (line 4)) (0.2.0)\n",
      "Requirement already satisfied: terminado>=0.8.1 in /home/ec2-user/anaconda3/envs/python3/lib/python3.6/site-packages (from notebook->jupyter->-r requirements.txt (line 4)) (0.8.3)\n",
      "Requirement already satisfied: jupyter-client>=5.3.4 in /home/ec2-user/anaconda3/envs/python3/lib/python3.6/site-packages (from notebook->jupyter->-r requirements.txt (line 4)) (5.3.4)\n",
      "Requirement already satisfied: pyzmq>=17 in /home/ec2-user/anaconda3/envs/python3/lib/python3.6/site-packages (from notebook->jupyter->-r requirements.txt (line 4)) (18.1.1)\n",
      "Requirement already satisfied: Send2Trash in /home/ec2-user/anaconda3/envs/python3/lib/python3.6/site-packages (from notebook->jupyter->-r requirements.txt (line 4)) (1.5.0)\n",
      "Requirement already satisfied: prometheus-client in /home/ec2-user/anaconda3/envs/python3/lib/python3.6/site-packages (from notebook->jupyter->-r requirements.txt (line 4)) (0.7.1)\n",
      "Requirement already satisfied: prompt-toolkit!=3.0.0,!=3.0.1,<3.1.0,>=2.0.0 in /home/ec2-user/anaconda3/envs/python3/lib/python3.6/site-packages (from jupyter-console->jupyter->-r requirements.txt (line 4)) (3.0.3)\n",
      "Requirement already satisfied: urllib3<1.26,>=1.25.4; python_version != \"3.4\" in /home/ec2-user/anaconda3/envs/python3/lib/python3.6/site-packages (from botocore<1.20.0,>=1.19.6->boto3->-r requirements.txt (line 5)) (1.25.10)\n",
      "Requirement already satisfied: zipp>=0.5 in /home/ec2-user/anaconda3/envs/python3/lib/python3.6/site-packages (from importlib-metadata>=1.4.0->sagemaker->-r requirements.txt (line 6)) (2.2.0)\n",
      "Requirement already satisfied: MarkupSafe>=0.23 in /home/ec2-user/anaconda3/envs/python3/lib/python3.6/site-packages (from jinja2>=2.4->nbconvert->jupyter->-r requirements.txt (line 4)) (1.1.1)\n",
      "Requirement already satisfied: decorator in /home/ec2-user/anaconda3/envs/python3/lib/python3.6/site-packages (from traitlets>=4.2->nbconvert->jupyter->-r requirements.txt (line 4)) (4.4.1)\n",
      "Requirement already satisfied: webencodings in /home/ec2-user/anaconda3/envs/python3/lib/python3.6/site-packages (from bleach->nbconvert->jupyter->-r requirements.txt (line 4)) (0.5.1)\n",
      "Requirement already satisfied: jsonschema!=2.5.0,>=2.4 in /home/ec2-user/anaconda3/envs/python3/lib/python3.6/site-packages (from nbformat>=4.4->nbconvert->jupyter->-r requirements.txt (line 4)) (3.2.0)\n",
      "Requirement already satisfied: pickleshare in /home/ec2-user/anaconda3/envs/python3/lib/python3.6/site-packages (from ipython>=4.0.0; python_version >= \"3.3\"->ipywidgets->jupyter->-r requirements.txt (line 4)) (0.7.5)\n",
      "Requirement already satisfied: jedi>=0.10 in /home/ec2-user/anaconda3/envs/python3/lib/python3.6/site-packages (from ipython>=4.0.0; python_version >= \"3.3\"->ipywidgets->jupyter->-r requirements.txt (line 4)) (0.14.1)\n",
      "Requirement already satisfied: backcall in /home/ec2-user/anaconda3/envs/python3/lib/python3.6/site-packages (from ipython>=4.0.0; python_version >= \"3.3\"->ipywidgets->jupyter->-r requirements.txt (line 4)) (0.1.0)\n",
      "Requirement already satisfied: pexpect; sys_platform != \"win32\" in /home/ec2-user/anaconda3/envs/python3/lib/python3.6/site-packages (from ipython>=4.0.0; python_version >= \"3.3\"->ipywidgets->jupyter->-r requirements.txt (line 4)) (4.8.0)\n",
      "Requirement already satisfied: wcwidth in /home/ec2-user/anaconda3/envs/python3/lib/python3.6/site-packages (from prompt-toolkit!=3.0.0,!=3.0.1,<3.1.0,>=2.0.0->jupyter-console->jupyter->-r requirements.txt (line 4)) (0.1.8)\n",
      "Requirement already satisfied: attrs>=17.4.0 in /home/ec2-user/anaconda3/envs/python3/lib/python3.6/site-packages (from jsonschema!=2.5.0,>=2.4->nbformat>=4.4->nbconvert->jupyter->-r requirements.txt (line 4)) (19.3.0)\n",
      "Requirement already satisfied: pyrsistent>=0.14.0 in /home/ec2-user/anaconda3/envs/python3/lib/python3.6/site-packages (from jsonschema!=2.5.0,>=2.4->nbformat>=4.4->nbconvert->jupyter->-r requirements.txt (line 4)) (0.15.7)\n",
      "Requirement already satisfied: parso>=0.5.0 in /home/ec2-user/anaconda3/envs/python3/lib/python3.6/site-packages (from jedi>=0.10->ipython>=4.0.0; python_version >= \"3.3\"->ipywidgets->jupyter->-r requirements.txt (line 4)) (0.5.2)\n",
      "Requirement already satisfied: ptyprocess>=0.5 in /home/ec2-user/anaconda3/envs/python3/lib/python3.6/site-packages (from pexpect; sys_platform != \"win32\"->ipython>=4.0.0; python_version >= \"3.3\"->ipywidgets->jupyter->-r requirements.txt (line 4)) (0.6.0)\n",
      "\u001b[33mWARNING: You are using pip version 20.0.2; however, version 20.2.4 is available.\n",
      "You should consider upgrading via the '/home/ec2-user/anaconda3/envs/python3/bin/python -m pip install --upgrade pip' command.\u001b[0m\n",
      "CPU times: user 52.3 ms, sys: 33 ms, total: 85.3 ms\n",
      "Wall time: 2.39 s\n"
     ]
    }
   ],
   "source": [
    "%%time\n",
    "import sys;\n",
    "!{sys.executable} -m pip install -r requirements.txt"
   ]
  },
  {
   "cell_type": "code",
   "execution_count": 10,
   "metadata": {
    "isConfigCell": true
   },
   "outputs": [
    {
     "name": "stdout",
     "output_type": "stream",
     "text": [
      "Bucket sagemaker-jfox in region eu-west-1\n",
      "CPU times: user 51.9 ms, sys: 0 ns, total: 51.9 ms\n",
      "Wall time: 83.8 ms\n"
     ]
    }
   ],
   "source": [
    "%%time\n",
    "import boto3\n",
    "import sagemaker\n",
    "\n",
    "session = sagemaker.Session() \n",
    "region = session.boto_region_name \n",
    "\n",
    "bucket = 'sagemaker-jfox'\n",
    " \n",
    "prefix = 'sagemaker/xgboost'\n",
    "role = sagemaker.get_execution_role()\n",
    "\n",
    "print(f'Bucket {bucket} in region {region}')"
   ]
  },
  {
   "cell_type": "markdown",
   "metadata": {},
   "source": [
    "\n"
   ]
  },
  {
   "cell_type": "code",
   "execution_count": 11,
   "metadata": {},
   "outputs": [
    {
     "name": "stdout",
     "output_type": "stream",
     "text": [
      "Length 6362620\n",
      "CPU times: user 12 s, sys: 1.41 s, total: 13.4 s\n",
      "Wall time: 13.4 s\n"
     ]
    },
    {
     "data": {
      "text/html": [
       "<div>\n",
       "<style scoped>\n",
       "    .dataframe tbody tr th:only-of-type {\n",
       "        vertical-align: middle;\n",
       "    }\n",
       "\n",
       "    .dataframe tbody tr th {\n",
       "        vertical-align: top;\n",
       "    }\n",
       "\n",
       "    .dataframe thead th {\n",
       "        text-align: right;\n",
       "    }\n",
       "</style>\n",
       "<table border=\"1\" class=\"dataframe\">\n",
       "  <thead>\n",
       "    <tr style=\"text-align: right;\">\n",
       "      <th></th>\n",
       "      <th>step</th>\n",
       "      <th>type</th>\n",
       "      <th>amount</th>\n",
       "      <th>nameOrig</th>\n",
       "      <th>oldbalanceOrg</th>\n",
       "      <th>newbalanceOrig</th>\n",
       "      <th>nameDest</th>\n",
       "      <th>oldbalanceDest</th>\n",
       "      <th>newbalanceDest</th>\n",
       "      <th>isFraud</th>\n",
       "      <th>isFlaggedFraud</th>\n",
       "    </tr>\n",
       "  </thead>\n",
       "  <tbody>\n",
       "    <tr>\n",
       "      <th>0</th>\n",
       "      <td>1</td>\n",
       "      <td>PAYMENT</td>\n",
       "      <td>9839.64</td>\n",
       "      <td>C1231006815</td>\n",
       "      <td>170136.00</td>\n",
       "      <td>160296.36</td>\n",
       "      <td>M1979787155</td>\n",
       "      <td>0.00</td>\n",
       "      <td>0.00</td>\n",
       "      <td>0</td>\n",
       "      <td>0</td>\n",
       "    </tr>\n",
       "    <tr>\n",
       "      <th>1</th>\n",
       "      <td>1</td>\n",
       "      <td>PAYMENT</td>\n",
       "      <td>1864.28</td>\n",
       "      <td>C1666544295</td>\n",
       "      <td>21249.00</td>\n",
       "      <td>19384.72</td>\n",
       "      <td>M2044282225</td>\n",
       "      <td>0.00</td>\n",
       "      <td>0.00</td>\n",
       "      <td>0</td>\n",
       "      <td>0</td>\n",
       "    </tr>\n",
       "    <tr>\n",
       "      <th>...</th>\n",
       "      <td>...</td>\n",
       "      <td>...</td>\n",
       "      <td>...</td>\n",
       "      <td>...</td>\n",
       "      <td>...</td>\n",
       "      <td>...</td>\n",
       "      <td>...</td>\n",
       "      <td>...</td>\n",
       "      <td>...</td>\n",
       "      <td>...</td>\n",
       "      <td>...</td>\n",
       "    </tr>\n",
       "    <tr>\n",
       "      <th>6362618</th>\n",
       "      <td>743</td>\n",
       "      <td>TRANSFER</td>\n",
       "      <td>850002.52</td>\n",
       "      <td>C1685995037</td>\n",
       "      <td>850002.52</td>\n",
       "      <td>0.00</td>\n",
       "      <td>C2080388513</td>\n",
       "      <td>0.00</td>\n",
       "      <td>0.00</td>\n",
       "      <td>1</td>\n",
       "      <td>0</td>\n",
       "    </tr>\n",
       "    <tr>\n",
       "      <th>6362619</th>\n",
       "      <td>743</td>\n",
       "      <td>CASH_OUT</td>\n",
       "      <td>850002.52</td>\n",
       "      <td>C1280323807</td>\n",
       "      <td>850002.52</td>\n",
       "      <td>0.00</td>\n",
       "      <td>C873221189</td>\n",
       "      <td>6510099.11</td>\n",
       "      <td>7360101.63</td>\n",
       "      <td>1</td>\n",
       "      <td>0</td>\n",
       "    </tr>\n",
       "  </tbody>\n",
       "</table>\n",
       "<p>6362620 rows × 11 columns</p>\n",
       "</div>"
      ],
      "text/plain": [
       "         step      type     amount     nameOrig  oldbalanceOrg  \\\n",
       "0           1   PAYMENT    9839.64  C1231006815      170136.00   \n",
       "1           1   PAYMENT    1864.28  C1666544295       21249.00   \n",
       "...       ...       ...        ...          ...            ...   \n",
       "6362618   743  TRANSFER  850002.52  C1685995037      850002.52   \n",
       "6362619   743  CASH_OUT  850002.52  C1280323807      850002.52   \n",
       "\n",
       "         newbalanceOrig     nameDest  oldbalanceDest  newbalanceDest  isFraud  \\\n",
       "0             160296.36  M1979787155            0.00            0.00        0   \n",
       "1              19384.72  M2044282225            0.00            0.00        0   \n",
       "...                 ...          ...             ...             ...      ...   \n",
       "6362618            0.00  C2080388513            0.00            0.00        1   \n",
       "6362619            0.00   C873221189      6510099.11      7360101.63        1   \n",
       "\n",
       "         isFlaggedFraud  \n",
       "0                     0  \n",
       "1                     0  \n",
       "...                 ...  \n",
       "6362618               0  \n",
       "6362619               0  \n",
       "\n",
       "[6362620 rows x 11 columns]"
      ]
     },
     "execution_count": 11,
     "metadata": {},
     "output_type": "execute_result"
    }
   ],
   "source": [
    "%%time\n",
    "import random\n",
    "import pandas as pd\n",
    "raw_data_filename = 'fraud-detection.csv'\n",
    "\n",
    "s3 = boto3.resource('s3', region_name=region)\n",
    "#s3.Bucket(bucket).download_file(raw_data_filename, raw_data_filename)\n",
    "percent_to_read=100\n",
    "fraction_to_read=percent_to_read/100  \n",
    "df = pd.read_csv('./'+raw_data_filename,  skiprows=lambda i: i>0 and random.random() > fraction_to_read)\n",
    "pd.set_option('display.max_rows', 5) \n",
    "\n",
    "print('Length', len(df))\n",
    "target_col='isFraud'\n",
    "df"
   ]
  },
  {
   "cell_type": "markdown",
   "metadata": {},
   "source": [
    "All `isFraud` rows have `type` `TRANSFER` or `CASH_OUT`, never but `CASH_IN` or `PAYMENT`. Filter these out."
   ]
  },
  {
   "cell_type": "code",
   "execution_count": 12,
   "metadata": {},
   "outputs": [],
   "source": [
    "df = df[df['type'].isin(['TRANSFER', 'CASH_OUT'])]\n"
   ]
  },
  {
   "cell_type": "markdown",
   "metadata": {},
   "source": [
    "Counts of each class to determine imbalance."
   ]
  },
  {
   "cell_type": "code",
   "execution_count": 13,
   "metadata": {},
   "outputs": [
    {
     "name": "stdout",
     "output_type": "stream",
     "text": [
      "Fraud 8213 ; Not fraud 2762196 ; Total 2770409\n"
     ]
    }
   ],
   "source": [
    "def count_positive_and_negative(df):\n",
    "    num_positive = len(df.loc[  df[target_col] == 1 ])\n",
    "    num_negative = len(df) - num_positive\n",
    "    return num_positive, num_negative\n",
    "\n",
    "num_positive, num_negative = count_positive_and_negative(df)\n",
    "\n",
    "print('Fraud', num_positive, '; Not fraud', num_negative, '; Total', len(df))\n"
   ]
  },
  {
   "cell_type": "markdown",
   "metadata": {},
   "source": [
    "Not using `isFlaggedFraud`."
   ]
  },
  {
   "cell_type": "code",
   "execution_count": 14,
   "metadata": {},
   "outputs": [],
   "source": [
    "df = df.drop(['isFlaggedFraud'], axis=1)"
   ]
  },
  {
   "cell_type": "markdown",
   "metadata": {},
   "source": [
    "Plot distribution of positive vs negative, in log scale because of the imbalance"
   ]
  },
  {
   "cell_type": "code",
   "execution_count": 15,
   "metadata": {},
   "outputs": [
    {
     "data": {
      "image/png": "[encoded data removed]",
      "text/plain": [
       "<Figure size 432x288 with 1 Axes>"
      ]
     },
     "metadata": {
      "needs_background": "light"
     },
     "output_type": "display_data"
    }
   ],
   "source": [
    "import math\n",
    "import matplotlib.pyplot as plt   \n",
    "\n",
    "def plot_positive_negative_counts(df, target_col):\n",
    "    val_counts=df[target_col].value_counts()\n",
    "    fig, ax = plt.subplots()\n",
    "    ax.set(yscale='log')\n",
    "    plt.bar(['Yes', 'No'], val_counts)\n",
    "    plt.ylabel('count')\n",
    "    plt.show()\n",
    "    \n",
    "plot_positive_negative_counts(df,target_col)\n"
   ]
  },
  {
   "cell_type": "markdown",
   "metadata": {},
   "source": [
    "Determine daily cyclical pattern."
   ]
  },
  {
   "cell_type": "code",
   "execution_count": 16,
   "metadata": {},
   "outputs": [],
   "source": [
    "import math \n",
    "import numpy as np\n",
    "df['step_mod24']=df['step']%24\n",
    "df['step_norm'] = 2 * math.pi * df['step'] / df['step'].max()\n",
    "\n",
    "df['cos_step'] = np.cos(df['step_norm'])\n",
    "df['sin_step'] = np.sin(df['step_norm'])\n",
    "df=df.drop(['step_mod24', 'step_norm'], axis=1)\n",
    " "
   ]
  },
  {
   "cell_type": "markdown",
   "metadata": {},
   "source": [
    "Calculate difference in balances"
   ]
  },
  {
   "cell_type": "code",
   "execution_count": 17,
   "metadata": {},
   "outputs": [],
   "source": [
    "df['deltaOrig'] = df['newbalanceOrig'] - df['oldbalanceOrg']\n",
    "df['deltaDest'] = df['newbalanceDest'] - df['oldbalanceDest']\n",
    " \n",
    "df = df.drop(columns = ['oldbalanceOrg', 'newbalanceOrig', 'oldbalanceDest', 'newbalanceDest'],axis=1)\n"
   ]
  },
  {
   "cell_type": "markdown",
   "metadata": {},
   "source": [
    "Scale the relevant numerical columns."
   ]
  },
  {
   "cell_type": "code",
   "execution_count": 18,
   "metadata": {},
   "outputs": [
    {
     "data": {
      "text/html": [
       "<div>\n",
       "<style scoped>\n",
       "    .dataframe tbody tr th:only-of-type {\n",
       "        vertical-align: middle;\n",
       "    }\n",
       "\n",
       "    .dataframe tbody tr th {\n",
       "        vertical-align: top;\n",
       "    }\n",
       "\n",
       "    .dataframe thead th {\n",
       "        text-align: right;\n",
       "    }\n",
       "</style>\n",
       "<table border=\"1\" class=\"dataframe\">\n",
       "  <thead>\n",
       "    <tr style=\"text-align: right;\">\n",
       "      <th></th>\n",
       "      <th>step</th>\n",
       "      <th>type</th>\n",
       "      <th>amount</th>\n",
       "      <th>nameOrig</th>\n",
       "      <th>nameDest</th>\n",
       "      <th>isFraud</th>\n",
       "      <th>cos_step</th>\n",
       "      <th>sin_step</th>\n",
       "      <th>deltaOrig</th>\n",
       "      <th>deltaDest</th>\n",
       "    </tr>\n",
       "  </thead>\n",
       "  <tbody>\n",
       "    <tr>\n",
       "      <th>2</th>\n",
       "      <td>1</td>\n",
       "      <td>TRANSFER</td>\n",
       "      <td>181.00</td>\n",
       "      <td>C1305486145</td>\n",
       "      <td>C553264065</td>\n",
       "      <td>1</td>\n",
       "      <td>0.999964</td>\n",
       "      <td>8.456407e-03</td>\n",
       "      <td>-181.00</td>\n",
       "      <td>0.00</td>\n",
       "    </tr>\n",
       "    <tr>\n",
       "      <th>3</th>\n",
       "      <td>1</td>\n",
       "      <td>CASH_OUT</td>\n",
       "      <td>181.00</td>\n",
       "      <td>C840083671</td>\n",
       "      <td>C38997010</td>\n",
       "      <td>1</td>\n",
       "      <td>0.999964</td>\n",
       "      <td>8.456407e-03</td>\n",
       "      <td>-181.00</td>\n",
       "      <td>-21182.00</td>\n",
       "    </tr>\n",
       "    <tr>\n",
       "      <th>...</th>\n",
       "      <td>...</td>\n",
       "      <td>...</td>\n",
       "      <td>...</td>\n",
       "      <td>...</td>\n",
       "      <td>...</td>\n",
       "      <td>...</td>\n",
       "      <td>...</td>\n",
       "      <td>...</td>\n",
       "      <td>...</td>\n",
       "      <td>...</td>\n",
       "    </tr>\n",
       "    <tr>\n",
       "      <th>6362618</th>\n",
       "      <td>743</td>\n",
       "      <td>TRANSFER</td>\n",
       "      <td>850002.52</td>\n",
       "      <td>C1685995037</td>\n",
       "      <td>C2080388513</td>\n",
       "      <td>1</td>\n",
       "      <td>1.000000</td>\n",
       "      <td>-2.449294e-16</td>\n",
       "      <td>-850002.52</td>\n",
       "      <td>0.00</td>\n",
       "    </tr>\n",
       "    <tr>\n",
       "      <th>6362619</th>\n",
       "      <td>743</td>\n",
       "      <td>CASH_OUT</td>\n",
       "      <td>850002.52</td>\n",
       "      <td>C1280323807</td>\n",
       "      <td>C873221189</td>\n",
       "      <td>1</td>\n",
       "      <td>1.000000</td>\n",
       "      <td>-2.449294e-16</td>\n",
       "      <td>-850002.52</td>\n",
       "      <td>850002.52</td>\n",
       "    </tr>\n",
       "  </tbody>\n",
       "</table>\n",
       "<p>2770409 rows × 10 columns</p>\n",
       "</div>"
      ],
      "text/plain": [
       "         step      type     amount     nameOrig     nameDest  isFraud  \\\n",
       "2           1  TRANSFER     181.00  C1305486145   C553264065        1   \n",
       "3           1  CASH_OUT     181.00   C840083671    C38997010        1   \n",
       "...       ...       ...        ...          ...          ...      ...   \n",
       "6362618   743  TRANSFER  850002.52  C1685995037  C2080388513        1   \n",
       "6362619   743  CASH_OUT  850002.52  C1280323807   C873221189        1   \n",
       "\n",
       "         cos_step      sin_step  deltaOrig  deltaDest  \n",
       "2        0.999964  8.456407e-03    -181.00       0.00  \n",
       "3        0.999964  8.456407e-03    -181.00  -21182.00  \n",
       "...           ...           ...        ...        ...  \n",
       "6362618  1.000000 -2.449294e-16 -850002.52       0.00  \n",
       "6362619  1.000000 -2.449294e-16 -850002.52  850002.52  \n",
       "\n",
       "[2770409 rows x 10 columns]"
      ]
     },
     "execution_count": 18,
     "metadata": {},
     "output_type": "execute_result"
    }
   ],
   "source": [
    " df"
   ]
  },
  {
   "cell_type": "code",
   "execution_count": 19,
   "metadata": {},
   "outputs": [],
   "source": [
    "columns = df.columns\n",
    "numerical_cols = ['amount', 'deltaOrig', 'deltaDest' ]\n",
    "other_col =[c for c in columns if  c not in numerical_cols]\n",
    "df_other = df[other_col]\n",
    "\n",
    "df_num = df[numerical_cols]\n",
    "\n",
    "from sklearn.preprocessing import StandardScaler\n",
    "scaler = StandardScaler()\n",
    "scaled_features = StandardScaler().fit_transform(df_num.values)\n",
    "scaled_features_df = pd.DataFrame(scaled_features, index=df_num.index, columns=df_num.columns)\n",
    "\n",
    "df = pd.concat([scaled_features_df, df_other], axis=1)\n",
    "df = df[columns] # Put back in old order"
   ]
  },
  {
   "cell_type": "code",
   "execution_count": 20,
   "metadata": {},
   "outputs": [
    {
     "data": {
      "text/html": [
       "<div>\n",
       "<style scoped>\n",
       "    .dataframe tbody tr th:only-of-type {\n",
       "        vertical-align: middle;\n",
       "    }\n",
       "\n",
       "    .dataframe tbody tr th {\n",
       "        vertical-align: top;\n",
       "    }\n",
       "\n",
       "    .dataframe thead th {\n",
       "        text-align: right;\n",
       "    }\n",
       "</style>\n",
       "<table border=\"1\" class=\"dataframe\">\n",
       "  <thead>\n",
       "    <tr style=\"text-align: right;\">\n",
       "      <th></th>\n",
       "      <th>isFraud</th>\n",
       "      <th>step</th>\n",
       "      <th>type</th>\n",
       "      <th>amount</th>\n",
       "      <th>nameOrig</th>\n",
       "      <th>nameDest</th>\n",
       "      <th>cos_step</th>\n",
       "      <th>sin_step</th>\n",
       "      <th>deltaOrig</th>\n",
       "      <th>deltaDest</th>\n",
       "    </tr>\n",
       "  </thead>\n",
       "  <tbody>\n",
       "    <tr>\n",
       "      <th>2</th>\n",
       "      <td>1</td>\n",
       "      <td>1</td>\n",
       "      <td>TRANSFER</td>\n",
       "      <td>-0.357467</td>\n",
       "      <td>C1305486145</td>\n",
       "      <td>C553264065</td>\n",
       "      <td>0.999964</td>\n",
       "      <td>8.456407e-03</td>\n",
       "      <td>0.191519</td>\n",
       "      <td>-0.293927</td>\n",
       "    </tr>\n",
       "    <tr>\n",
       "      <th>3</th>\n",
       "      <td>1</td>\n",
       "      <td>1</td>\n",
       "      <td>CASH_OUT</td>\n",
       "      <td>-0.357467</td>\n",
       "      <td>C840083671</td>\n",
       "      <td>C38997010</td>\n",
       "      <td>0.999964</td>\n",
       "      <td>8.456407e-03</td>\n",
       "      <td>0.191519</td>\n",
       "      <td>-0.311912</td>\n",
       "    </tr>\n",
       "    <tr>\n",
       "      <th>...</th>\n",
       "      <td>...</td>\n",
       "      <td>...</td>\n",
       "      <td>...</td>\n",
       "      <td>...</td>\n",
       "      <td>...</td>\n",
       "      <td>...</td>\n",
       "      <td>...</td>\n",
       "      <td>...</td>\n",
       "      <td>...</td>\n",
       "      <td>...</td>\n",
       "    </tr>\n",
       "    <tr>\n",
       "      <th>6362618</th>\n",
       "      <td>1</td>\n",
       "      <td>743</td>\n",
       "      <td>TRANSFER</td>\n",
       "      <td>0.599766</td>\n",
       "      <td>C1685995037</td>\n",
       "      <td>C2080388513</td>\n",
       "      <td>1.000000</td>\n",
       "      <td>-2.449294e-16</td>\n",
       "      <td>-4.996745</td>\n",
       "      <td>-0.293927</td>\n",
       "    </tr>\n",
       "    <tr>\n",
       "      <th>6362619</th>\n",
       "      <td>1</td>\n",
       "      <td>743</td>\n",
       "      <td>CASH_OUT</td>\n",
       "      <td>0.599766</td>\n",
       "      <td>C1280323807</td>\n",
       "      <td>C873221189</td>\n",
       "      <td>1.000000</td>\n",
       "      <td>-2.449294e-16</td>\n",
       "      <td>-4.996745</td>\n",
       "      <td>0.427768</td>\n",
       "    </tr>\n",
       "  </tbody>\n",
       "</table>\n",
       "<p>2770409 rows × 10 columns</p>\n",
       "</div>"
      ],
      "text/plain": [
       "         isFraud  step      type    amount     nameOrig     nameDest  \\\n",
       "2              1     1  TRANSFER -0.357467  C1305486145   C553264065   \n",
       "3              1     1  CASH_OUT -0.357467   C840083671    C38997010   \n",
       "...          ...   ...       ...       ...          ...          ...   \n",
       "6362618        1   743  TRANSFER  0.599766  C1685995037  C2080388513   \n",
       "6362619        1   743  CASH_OUT  0.599766  C1280323807   C873221189   \n",
       "\n",
       "         cos_step      sin_step  deltaOrig  deltaDest  \n",
       "2        0.999964  8.456407e-03   0.191519  -0.293927  \n",
       "3        0.999964  8.456407e-03   0.191519  -0.311912  \n",
       "...           ...           ...        ...        ...  \n",
       "6362618  1.000000 -2.449294e-16  -4.996745  -0.293927  \n",
       "6362619  1.000000 -2.449294e-16  -4.996745   0.427768  \n",
       "\n",
       "[2770409 rows x 10 columns]"
      ]
     },
     "execution_count": 20,
     "metadata": {},
     "output_type": "execute_result"
    }
   ],
   "source": [
    "# Put back in old order\n",
    "df = df[columns] \n",
    "cols = df.columns.tolist()\n",
    "cols.remove(target_col)\n",
    "cols = [target_col] + cols\n",
    "df = df[cols] # Move target to the left\n",
    "df"
   ]
  },
  {
   "cell_type": "markdown",
   "metadata": {},
   "source": [
    "Make dummies (onehot) for `type` field."
   ]
  },
  {
   "cell_type": "code",
   "execution_count": 21,
   "metadata": {},
   "outputs": [],
   "source": [
    "df_dummies=pd.get_dummies(df['type'],drop_first=True )\n",
    "\n",
    "df=df.drop(['type'], axis=1)\n",
    "df = pd.concat([df, df_dummies], axis=1)"
   ]
  },
  {
   "cell_type": "markdown",
   "metadata": {},
   "source": [
    "Use *HashingEncoder* to handle categorical columns with high cardinality. These cannot be onehotted as that would generate too many columns and a too-sparse matrix."
   ]
  },
  {
   "cell_type": "code",
   "execution_count": 22,
   "metadata": {},
   "outputs": [
    {
     "name": "stdout",
     "output_type": "stream",
     "text": [
      "Dropping high-cardinality categorical columns\n",
      "CPU times: user 150 ms, sys: 101 ms, total: 251 ms\n",
      "Wall time: 249 ms\n"
     ]
    }
   ],
   "source": [
    "%%time\n",
    "high_cardinality__categorical_col = ['nameOrig', 'nameDest']\n",
    "use_hashing_encoder = False\n",
    "if not use_hashing_encoder:\n",
    "    print('Dropping high-cardinality categorical columns')\n",
    "    df=df.drop(high_cardinality__categorical_col, axis=1)\n",
    "else:\n",
    "  import category_encoders as ce  \n",
    "  columns_before = [x for x in df.columns if x not in high_cardinality__categorical_col+[target_col]]\n",
    "\n",
    "  def make_col_mapping(cols):\n",
    "    col_mapping = {}\n",
    "    for c in cols:\n",
    "        if c[:4]=='col_':\n",
    "          num = c.split('_')[-1]\n",
    "          int(num) # check format\n",
    "          col_mapping[c] = hashencode_this + '_' + num\n",
    "     \n",
    "    return col_mapping\n",
    "\n",
    "  #TODO hashencode in one pass, both columns\n",
    "  def hashencode(hashencode_this, df, previous_hash_cols):\n",
    "    for c in df.columns:\n",
    "        assert c[:4] != 'col_',  df.columns\n",
    "    cpus_in_t2xlarge = 4\n",
    "    default_max_sample = len(df)/cpus_in_t2xlarge\n",
    "    max_sample = default_max_sample/2\n",
    "    ce_hash = ce.HashingEncoder(cols = [hashencode_this],max_sample=max_sample)\n",
    "    X1 = df.drop([target_col], axis=1)\n",
    "    y1 = df[target_col]\n",
    "    with_hashing = ce_hash.fit_transform(X1, y1)\n",
    "    hashed = with_hashing.drop(columns_before+previous_hash_cols, axis=1)\n",
    "    generated_cols = [x for x in hashed.columns if x[:4]=='col_']\n",
    "    col_mapping = make_col_mapping(generated_cols)\n",
    "    \n",
    "    hashed = hashed.rename(columns = col_mapping)\n",
    "    df = pd.concat([y1, X1, hashed], axis=1)\n",
    " \n",
    "    df = df.drop([hashencode_this], axis=1)\n",
    "    return df, list(col_mapping.values())\n",
    " \n",
    "  previous_hash_cols = []\n",
    "  for hashencode_this in high_cardinality__categorical_col: \n",
    "      df, previous_hash_cols = hashencode(hashencode_this,df,previous_hash_cols)\n",
    " "
   ]
  },
  {
   "cell_type": "markdown",
   "metadata": {},
   "source": [
    "Optionally use *SMOTENC* for unbalanced classes, though we may stick with the XGBoost parameters."
   ]
  },
  {
   "cell_type": "code",
   "execution_count": 23,
   "metadata": {},
   "outputs": [],
   "source": [
    "use_smote = False\n",
    "if use_smote:\n",
    "   from imblearn.over_sampling import SMOTENC\n",
    "\n",
    "   ycol=target_col\n",
    "   Xcol=list(df.columns)\n",
    "   Xcol.remove(ycol)\n",
    " \n",
    "   categorical_columns=[i for i in range(len(Xcol)) \n",
    "                     if Xcol[i] not in ['step','amount','oldbalanceOrg','newbalanceOrig','oldbalanceDest','newbalanceDest']]\n",
    "\n",
    "   smotenc = SMOTENC(categorical_columns,random_state = 101)\n",
    "\n",
    "   X, y = smotenc.fit_resample(df[Xcol], df[ycol])\n",
    "   y_df = pd.DataFrame({target_col: y} )\n",
    "\n",
    "   df = pd.concat([X, y_df], axis=1)"
   ]
  },
  {
   "cell_type": "code",
   "execution_count": 24,
   "metadata": {},
   "outputs": [
    {
     "data": {
      "image/png": "[encoded data removed]",
      "text/plain": [
       "<Figure size 432x288 with 1 Axes>"
      ]
     },
     "metadata": {
      "needs_background": "light"
     },
     "output_type": "display_data"
    }
   ],
   "source": [
    "plot_positive_negative_counts(df,target_col)"
   ]
  },
  {
   "cell_type": "markdown",
   "metadata": {},
   "source": [
    "# Split  with randomization"
   ]
  },
  {
   "cell_type": "code",
   "execution_count": 25,
   "metadata": {},
   "outputs": [],
   "source": [
    "import numpy as np\n",
    "\n",
    "train_data, validation_data, test_data = np.split(df.sample(frac=1, random_state=1729), [int(0.7 * len(df)), int(0.9 * len(df))])"
   ]
  },
  {
   "cell_type": "markdown",
   "metadata": {},
   "source": [
    "Using libSVM for performance."
   ]
  },
  {
   "cell_type": "code",
   "execution_count": 26,
   "metadata": {},
   "outputs": [
    {
     "name": "stdout",
     "output_type": "stream",
     "text": [
      "Length of datasets: [('train', 1939286), ('validation', 554082), ('test', 277041)]\n"
     ]
    }
   ],
   "source": [
    "from sklearn.datasets import dump_svmlight_file   \n",
    "\n",
    "lengths = [] \n",
    "\n",
    "for d in [(train_data, 'train.libsvm'), ( validation_data, 'validation.libsvm'), (test_data, 'test.libsvm')]:\n",
    "   dataset = d[0]\n",
    "   file_ = d[1]\n",
    "   lengths.append((d[1].split('.')[0],len(dataset)))\n",
    "   dump_svmlight_file(X=dataset.drop([target_col], axis=1), y=dataset[target_col], f=d[1])\n",
    "\n",
    "print('Length of datasets:', lengths)\n",
    "\n",
    "for filename in ['train.libsvm', 'validation.libsvm']:\n",
    "   s3.Bucket(bucket).Object(prefix + '/'+filename.split('.')[0]+'/'+filename).upload_file(filename)"
   ]
  },
  {
   "cell_type": "code",
   "execution_count": 27,
   "metadata": {},
   "outputs": [
    {
     "name": "stderr",
     "output_type": "stream",
     "text": [
      "'s3_input' class will be renamed to 'TrainingInput' in SageMaker Python SDK v2.\n",
      "'s3_input' class will be renamed to 'TrainingInput' in SageMaker Python SDK v2.\n"
     ]
    }
   ],
   "source": [
    "def s3_path(subset):\n",
    "  return sagemaker.s3_input(s3_data='s3://{}/{}/{}'.format(bucket, prefix,subset), content_type='libsvm')\n",
    "\n",
    "s3_input_train = s3_path('train')\n",
    "s3_input_validation =s3_path('validation')"
   ]
  },
  {
   "cell_type": "markdown",
   "metadata": {},
   "source": [
    "---\n",
    "## Train\n",
    "\n",
    "Our data is now ready to be used to train a XGBoost model. The XGBoost algorithm has many tunable hyperparameters. Some of these hyperparameters are listed below; initially we'll only use a few of them.  \n",
    "\n",
    "- `max_depth`: Maximum depth of a tree. As a cautionary note, a value too small could underfit the data, while increasing it will make the model more complex and thus more likely to overfit the data (in other words, the classic bias-variance tradeoff).\n",
    "- `eta`: Step size shrinkage used in updates to prevent overfitting.  \n",
    "- `eval_metric`: Evaluation metric(s) for validation data. For data sets such as this one with imbalanced classes, we'll use the AUC metric.\n",
    "- `scale_pos_weight`: Controls the balance of positive and negative weights, again useful for data sets having imbalanced classes.\n",
    "\n",
    "First we'll set up the parameters for an Amazon SageMaker Estimator object, and the hyperparameters for the algorithm itself.  The Estimator object from the Amazon SageMaker Python SDK is a convenient way to set up training jobs with a minimal amount of code."
   ]
  },
  {
   "cell_type": "code",
   "execution_count": 28,
   "metadata": {},
   "outputs": [
    {
     "name": "stderr",
     "output_type": "stream",
     "text": [
      "'get_image_uri' method will be deprecated in favor of 'ImageURIProvider' class in SageMaker Python SDK v2.\n",
      "Parameter image_name will be renamed to image_uri in SageMaker Python SDK v2.\n"
     ]
    },
    {
     "name": "stdout",
     "output_type": "stream",
     "text": [
      "scale_pos_weight 336.3\n"
     ]
    }
   ],
   "source": [
    "from sagemaker.amazon.amazon_estimator import get_image_uri\n",
    "\n",
    "container = get_image_uri(region, 'xgboost','1.0-1')\n",
    "\n",
    "\n",
    "xgb = sagemaker.estimator.Estimator(container,\n",
    "                                    role, \n",
    "                                    base_job_name='fraud-detection-job',\n",
    "                                    train_instance_count=1, \n",
    "                                    train_instance_type='ml.c5.xlarge',\n",
    "                                    output_path=f's3://{bucket}/{prefix}/output' ,\n",
    "                                    sagemaker_session=session)\n",
    "    \n",
    "num_positive, num_negative=count_positive_and_negative(df)\n",
    "scale_pos_weight=num_negative / num_positive  \n",
    "\n",
    "print('scale_pos_weight', f'{scale_pos_weight:.1f}')\n",
    "\n",
    "xgb.set_hyperparameters(max_depth=3,\n",
    "                        eta=0.1,\n",
    "                        subsample=0.5,\n",
    "                        eval_metric='aucpr',\n",
    "                        objective='binary:logistic',\n",
    "                        scale_pos_weight=scale_pos_weight,\n",
    "                        num_round=100)"
   ]
  },
  {
   "cell_type": "markdown",
   "metadata": {},
   "source": [
    "Run the hosted training (`fit`) job."
   ]
  },
  {
   "cell_type": "code",
   "execution_count": 29,
   "metadata": {},
   "outputs": [
    {
     "name": "stdout",
     "output_type": "stream",
     "text": [
      "2020-11-09 17:08:34 Starting - Starting the training job...\n",
      "2020-11-09 17:08:36 Starting - Launching requested ML instances......\n",
      "2020-11-09 17:09:44 Starting - Preparing the instances for training...\n",
      "2020-11-09 17:10:23 Downloading - Downloading input data...\n",
      "2020-11-09 17:10:57 Training - Training image download completed. Training in progress..\u001b[34mINFO:sagemaker-containers:Imported framework sagemaker_xgboost_container.training\u001b[0m\n",
      "\u001b[34mINFO:sagemaker-containers:Failed to parse hyperparameter eval_metric value aucpr to Json.\u001b[0m\n",
      "\u001b[34mReturning the value itself\u001b[0m\n",
      "\u001b[34mINFO:sagemaker-containers:Failed to parse hyperparameter objective value binary:logistic to Json.\u001b[0m\n",
      "\u001b[34mReturning the value itself\u001b[0m\n",
      "\u001b[34mINFO:sagemaker-containers:No GPUs detected (normal if no gpus installed)\u001b[0m\n",
      "\u001b[34mINFO:sagemaker_xgboost_container.training:Running XGBoost Sagemaker in algorithm mode\u001b[0m\n",
      "\u001b[34m[17:10:59] 1939286x7 matrix with 12008620 entries loaded from /opt/ml/input/data/train\u001b[0m\n",
      "\u001b[34m[17:11:00] 554082x7 matrix with 3431144 entries loaded from /opt/ml/input/data/validation\u001b[0m\n",
      "\u001b[34mINFO:root:Single node training.\u001b[0m\n",
      "\u001b[34mINFO:root:Train matrix has 1939286 rows\u001b[0m\n",
      "\u001b[34mINFO:root:Validation matrix has 554082 rows\u001b[0m\n",
      "\u001b[34m[0]#011train-aucpr:0.21415#011validation-aucpr:0.20808\u001b[0m\n",
      "\u001b[34m[1]#011train-aucpr:0.21822#011validation-aucpr:0.21193\u001b[0m\n",
      "\u001b[34m[2]#011train-aucpr:0.22100#011validation-aucpr:0.21566\u001b[0m\n",
      "\u001b[34m[3]#011train-aucpr:0.24042#011validation-aucpr:0.23559\u001b[0m\n",
      "\u001b[34m[4]#011train-aucpr:0.34941#011validation-aucpr:0.33207\u001b[0m\n",
      "\u001b[34m[5]#011train-aucpr:0.35642#011validation-aucpr:0.33894\u001b[0m\n",
      "\u001b[34m[6]#011train-aucpr:0.34875#011validation-aucpr:0.33297\u001b[0m\n",
      "\u001b[34m[7]#011train-aucpr:0.49363#011validation-aucpr:0.47501\u001b[0m\n",
      "\u001b[34m[8]#011train-aucpr:0.49481#011validation-aucpr:0.47563\u001b[0m\n",
      "\u001b[34m[9]#011train-aucpr:0.48877#011validation-aucpr:0.47073\u001b[0m\n",
      "\u001b[34m[10]#011train-aucpr:0.49399#011validation-aucpr:0.47560\u001b[0m\n",
      "\u001b[34m[11]#011train-aucpr:0.51252#011validation-aucpr:0.49273\u001b[0m\n",
      "\u001b[34m[12]#011train-aucpr:0.57665#011validation-aucpr:0.56285\u001b[0m\n",
      "\u001b[34m[13]#011train-aucpr:0.59251#011validation-aucpr:0.57768\u001b[0m\n",
      "\u001b[34m[14]#011train-aucpr:0.59667#011validation-aucpr:0.58235\u001b[0m\n",
      "\u001b[34m[15]#011train-aucpr:0.63025#011validation-aucpr:0.61268\u001b[0m\n",
      "\u001b[34m[16]#011train-aucpr:0.61938#011validation-aucpr:0.60561\u001b[0m\n",
      "\u001b[34m[17]#011train-aucpr:0.60870#011validation-aucpr:0.59510\u001b[0m\n",
      "\u001b[34m[18]#011train-aucpr:0.70347#011validation-aucpr:0.68429\u001b[0m\n",
      "\u001b[34m[19]#011train-aucpr:0.71119#011validation-aucpr:0.68856\u001b[0m\n",
      "\u001b[34m[20]#011train-aucpr:0.72263#011validation-aucpr:0.69918\u001b[0m\n",
      "\u001b[34m[21]#011train-aucpr:0.73355#011validation-aucpr:0.70829\u001b[0m\n",
      "\u001b[34m[22]#011train-aucpr:0.76616#011validation-aucpr:0.74038\u001b[0m\n",
      "\u001b[34m[23]#011train-aucpr:0.76660#011validation-aucpr:0.73902\u001b[0m\n",
      "\u001b[34m[24]#011train-aucpr:0.77234#011validation-aucpr:0.74571\u001b[0m\n",
      "\u001b[34m[25]#011train-aucpr:0.77510#011validation-aucpr:0.74762\u001b[0m\n",
      "\u001b[34m[26]#011train-aucpr:0.77529#011validation-aucpr:0.74764\u001b[0m\n",
      "\u001b[34m[27]#011train-aucpr:0.78030#011validation-aucpr:0.75331\u001b[0m\n",
      "\u001b[34m[28]#011train-aucpr:0.78224#011validation-aucpr:0.75459\u001b[0m\n",
      "\u001b[34m[29]#011train-aucpr:0.78087#011validation-aucpr:0.75287\u001b[0m\n",
      "\u001b[34m[30]#011train-aucpr:0.79558#011validation-aucpr:0.76868\u001b[0m\n",
      "\u001b[34m[31]#011train-aucpr:0.79812#011validation-aucpr:0.77282\u001b[0m\n",
      "\u001b[34m[32]#011train-aucpr:0.80062#011validation-aucpr:0.77555\u001b[0m\n",
      "\u001b[34m[33]#011train-aucpr:0.80292#011validation-aucpr:0.77762\u001b[0m\n",
      "\u001b[34m[34]#011train-aucpr:0.80583#011validation-aucpr:0.78054\u001b[0m\n",
      "\u001b[34m[35]#011train-aucpr:0.80671#011validation-aucpr:0.78134\u001b[0m\n",
      "\u001b[34m[36]#011train-aucpr:0.80752#011validation-aucpr:0.78214\u001b[0m\n",
      "\u001b[34m[37]#011train-aucpr:0.80703#011validation-aucpr:0.78201\u001b[0m\n",
      "\u001b[34m[38]#011train-aucpr:0.81036#011validation-aucpr:0.78597\u001b[0m\n",
      "\u001b[34m[39]#011train-aucpr:0.81045#011validation-aucpr:0.78596\u001b[0m\n",
      "\u001b[34m[40]#011train-aucpr:0.81094#011validation-aucpr:0.78585\u001b[0m\n",
      "\u001b[34m[41]#011train-aucpr:0.81299#011validation-aucpr:0.78823\u001b[0m\n",
      "\u001b[34m[42]#011train-aucpr:0.81353#011validation-aucpr:0.78850\u001b[0m\n",
      "\u001b[34m[43]#011train-aucpr:0.81444#011validation-aucpr:0.78958\u001b[0m\n",
      "\u001b[34m[44]#011train-aucpr:0.81517#011validation-aucpr:0.79017\u001b[0m\n",
      "\u001b[34m[45]#011train-aucpr:0.81552#011validation-aucpr:0.79052\u001b[0m\n",
      "\u001b[34m[46]#011train-aucpr:0.81645#011validation-aucpr:0.79130\u001b[0m\n",
      "\u001b[34m[47]#011train-aucpr:0.81693#011validation-aucpr:0.79176\u001b[0m\n",
      "\u001b[34m[48]#011train-aucpr:0.81834#011validation-aucpr:0.79279\u001b[0m\n",
      "\u001b[34m[49]#011train-aucpr:0.81991#011validation-aucpr:0.79442\u001b[0m\n",
      "\u001b[34m[50]#011train-aucpr:0.82111#011validation-aucpr:0.79572\u001b[0m\n",
      "\u001b[34m[51]#011train-aucpr:0.82167#011validation-aucpr:0.79643\u001b[0m\n",
      "\u001b[34m[52]#011train-aucpr:0.82225#011validation-aucpr:0.79675\u001b[0m\n",
      "\u001b[34m[53]#011train-aucpr:0.82331#011validation-aucpr:0.79767\u001b[0m\n",
      "\u001b[34m[54]#011train-aucpr:0.82338#011validation-aucpr:0.79788\u001b[0m\n",
      "\u001b[34m[55]#011train-aucpr:0.82376#011validation-aucpr:0.79808\u001b[0m\n",
      "\u001b[34m[56]#011train-aucpr:0.82386#011validation-aucpr:0.79796\u001b[0m\n",
      "\u001b[34m[57]#011train-aucpr:0.82388#011validation-aucpr:0.79774\u001b[0m\n",
      "\u001b[34m[58]#011train-aucpr:0.82420#011validation-aucpr:0.79813\u001b[0m\n",
      "\u001b[34m[59]#011train-aucpr:0.82479#011validation-aucpr:0.79860\u001b[0m\n",
      "\u001b[34m[60]#011train-aucpr:0.82514#011validation-aucpr:0.79917\u001b[0m\n",
      "\u001b[34m[61]#011train-aucpr:0.82666#011validation-aucpr:0.80034\u001b[0m\n",
      "\u001b[34m[62]#011train-aucpr:0.82684#011validation-aucpr:0.80061\u001b[0m\n",
      "\u001b[34m[63]#011train-aucpr:0.82755#011validation-aucpr:0.80148\u001b[0m\n",
      "\u001b[34m[64]#011train-aucpr:0.82841#011validation-aucpr:0.80215\u001b[0m\n",
      "\u001b[34m[65]#011train-aucpr:0.82859#011validation-aucpr:0.80228\u001b[0m\n",
      "\u001b[34m[66]#011train-aucpr:0.82885#011validation-aucpr:0.80227\u001b[0m\n",
      "\u001b[34m[67]#011train-aucpr:0.82980#011validation-aucpr:0.80307\u001b[0m\n",
      "\u001b[34m[68]#011train-aucpr:0.83022#011validation-aucpr:0.80352\u001b[0m\n",
      "\u001b[34m[69]#011train-aucpr:0.83048#011validation-aucpr:0.80378\u001b[0m\n",
      "\u001b[34m[70]#011train-aucpr:0.83115#011validation-aucpr:0.80466\u001b[0m\n",
      "\u001b[34m[71]#011train-aucpr:0.83117#011validation-aucpr:0.80467\u001b[0m\n",
      "\u001b[34m[72]#011train-aucpr:0.83143#011validation-aucpr:0.80488\u001b[0m\n",
      "\u001b[34m[73]#011train-aucpr:0.83224#011validation-aucpr:0.80563\u001b[0m\n",
      "\u001b[34m[74]#011train-aucpr:0.83247#011validation-aucpr:0.80565\u001b[0m\n",
      "\u001b[34m[75]#011train-aucpr:0.83279#011validation-aucpr:0.80639\u001b[0m\n",
      "\u001b[34m[76]#011train-aucpr:0.83295#011validation-aucpr:0.80651\u001b[0m\n",
      "\u001b[34m[77]#011train-aucpr:0.83307#011validation-aucpr:0.80656\u001b[0m\n",
      "\u001b[34m[78]#011train-aucpr:0.83330#011validation-aucpr:0.80671\u001b[0m\n",
      "\u001b[34m[79]#011train-aucpr:0.83344#011validation-aucpr:0.80685\u001b[0m\n",
      "\u001b[34m[80]#011train-aucpr:0.83425#011validation-aucpr:0.80757\u001b[0m\n",
      "\u001b[34m[81]#011train-aucpr:0.83515#011validation-aucpr:0.80812\u001b[0m\n",
      "\u001b[34m[82]#011train-aucpr:0.83550#011validation-aucpr:0.80856\u001b[0m\n",
      "\u001b[34m[83]#011train-aucpr:0.83652#011validation-aucpr:0.80951\u001b[0m\n",
      "\u001b[34m[84]#011train-aucpr:0.83661#011validation-aucpr:0.80959\u001b[0m\n",
      "\u001b[34m[85]#011train-aucpr:0.83692#011validation-aucpr:0.80987\u001b[0m\n",
      "\u001b[34m[86]#011train-aucpr:0.83705#011validation-aucpr:0.80982\u001b[0m\n",
      "\u001b[34m[87]#011train-aucpr:0.83749#011validation-aucpr:0.81008\u001b[0m\n",
      "\u001b[34m[88]#011train-aucpr:0.83798#011validation-aucpr:0.81078\u001b[0m\n",
      "\u001b[34m[89]#011train-aucpr:0.83884#011validation-aucpr:0.81152\u001b[0m\n",
      "\u001b[34m[90]#011train-aucpr:0.83910#011validation-aucpr:0.81161\u001b[0m\n",
      "\u001b[34m[91]#011train-aucpr:0.83926#011validation-aucpr:0.81175\u001b[0m\n",
      "\u001b[34m[92]#011train-aucpr:0.84022#011validation-aucpr:0.81270\u001b[0m\n",
      "\u001b[34m[93]#011train-aucpr:0.84069#011validation-aucpr:0.81333\u001b[0m\n",
      "\u001b[34m[94]#011train-aucpr:0.84120#011validation-aucpr:0.81396\u001b[0m\n",
      "\u001b[34m[95]#011train-aucpr:0.84129#011validation-aucpr:0.81402\u001b[0m\n",
      "\u001b[34m[96]#011train-aucpr:0.84157#011validation-aucpr:0.81420\u001b[0m\n",
      "\u001b[34m[97]#011train-aucpr:0.84183#011validation-aucpr:0.81458\u001b[0m\n",
      "\u001b[34m[98]#011train-aucpr:0.84193#011validation-aucpr:0.81470\u001b[0m\n",
      "\n",
      "2020-11-09 17:12:32 Uploading - Uploading generated training model\n",
      "2020-11-09 17:12:32 Completed - Training job completed\n",
      "\u001b[34m[99]#011train-aucpr:0.84254#011validation-aucpr:0.81533\u001b[0m\n",
      "Training seconds: 129\n",
      "Billable seconds: 129\n",
      "CPU times: user 596 ms, sys: 17.1 ms, total: 613 ms\n",
      "Wall time: 4min 12s\n"
     ]
    }
   ],
   "source": [
    "%%time\n",
    "xgb.fit({'train': s3_input_train, 'validation': s3_input_validation})"
   ]
  },
  {
   "cell_type": "markdown",
   "metadata": {},
   "source": [
    "---\n",
    "## Host\n",
    "\n",
    "Deploy the trained model to an Amazon SageMaker hosted endpoint."
   ]
  },
  {
   "cell_type": "code",
   "execution_count": null,
   "metadata": {},
   "outputs": [],
   "source": [
    "import datetime \n",
    "model = xgb.create_model()\n",
    "container_def = model.prepare_container_def(instance_type='ml.m4.xlarge')\n",
    "model_name = 'fraud' + datetime.datetime.now().isoformat().replace('.','-').replace(':','-')  \n",
    "print('model_name', model_name)\n",
    " \n",
    "direct_deploy = False\n",
    "endpoint_name = 'fraud-detection-job-2020-11-09-16-48-49-425'\n",
    "\n",
    "if direct_deploy:\n",
    "  xgb_predictor = xgb.deploy(initial_instance_count=1, instance_type='ml.m5.xlarge',endpoint_name=endpoint_name)\n",
    "else:\n",
    " \n",
    "  session.create_model(model_name, role, container_def)\n",
    "\n",
    "  endpoint_config_name = session.create_endpoint_config(name=model_name,\n",
    "                                                      model_name=model_name,\n",
    "                                                      initial_instance_count=1,\n",
    "                                                      instance_type='ml.m5.xlarge')\n",
    "\n",
    "  client = boto3.client('sagemaker')\n",
    "  updated_endpoint=client.update_endpoint(EndpointName=endpoint_name, EndpointConfigName=endpoint_config_name)\n",
    "  print(updated_endpoint)\n",
    "  xgb_predictor = sagemaker.predictor.RealTimePredictor(endpoint=endpoint_name, sagemaker_session=sagemaker.Session())\n"
   ]
  },
  {
   "cell_type": "markdown",
   "metadata": {},
   "source": [
    "---\n",
    "## Evaluation\n",
    "\n",
    "Generate predictions from  the  test data set using the hosted endpoint.\n",
    "\n",
    "Compared actual to predicted values of whether the transaction was a \"fraud\" (`1`) or not (`0`).  Then we'll produce a  confusion matrix."
   ]
  },
  {
   "cell_type": "code",
   "execution_count": null,
   "metadata": {},
   "outputs": [],
   "source": [
    "xgb_predictor.content_type = 'text/x-libsvm'\n",
    "xgb_predictor.deserializer = None\n",
    "\n",
    "def do_predict(data):\n",
    "    payload = '\\n'.join(data)\n",
    "    response = xgb_predictor.predict(payload).decode('utf-8')\n",
    "    result = response.split(',')\n",
    "    preds = [float((num)) for num in result]\n",
    "    preds = [round(num) for num in preds]\n",
    "    return preds\n",
    "\n",
    "def batch_predict(data, batch_size):\n",
    "    items = len(data)\n",
    "    arrs = []\n",
    "    \n",
    "    for offset in range(0, items, batch_size):\n",
    "        if offset+batch_size < items:\n",
    "            results = do_predict(data[offset:(offset+batch_size)])\n",
    "            arrs.extend(results)\n",
    "        else:\n",
    "            arrs.extend(do_predict(data[offset:items]))\n",
    "        sys.stdout.write('.')\n",
    "    return(arrs)"
   ]
  },
  {
   "cell_type": "code",
   "execution_count": null,
   "metadata": {},
   "outputs": [],
   "source": [
    "%%time\n",
    "import json\n",
    "\n",
    "with open('test.libsvm', 'r') as f:\n",
    "    payload = f.read().strip()\n",
    "\n",
    "labels = [int(line.split(' ')[0]) for line in payload.split('\\n')]\n",
    "test_data = [line for line in payload.split('\\n')]\n",
    "preds = batch_predict(test_data, 100)"
   ]
  },
  {
   "cell_type": "code",
   "execution_count": null,
   "metadata": {},
   "outputs": [],
   "source": [
    "print ('\\nError rate=%f' % ( sum(1 for i in range(len(preds)) if preds[i]!=labels[i]) /float(len(preds))))\n",
    "\n",
    "actual_pos = sum(1 for i in range(len(labels)) if 1==labels[i])\n",
    "actual_neg = sum(1 for i in range(len(labels)) if 0==labels[i])\n",
    "\n",
    "pred_pos = sum(1 for i in range(len(preds)) if 1==preds[i])\n",
    "pred_neg = sum(1 for i in range(len(preds)) if 0==preds[i])\n",
    "\n",
    "true_pos = sum(1 for i in range(len(preds)) if  preds[i]==1==labels[i])\n",
    "true_neg = sum(1 for i in range(len(preds)) if  preds[i]==0==labels[i])\n",
    "\n",
    "false_pos=sum(1 for i in range(len(preds)) if  preds[i]==1 and 0==labels[i])\n",
    "false_neg=sum(1 for i in range(len(preds)) if  preds[i]==0 and 1==labels[i])\n",
    "\n",
    "recall = true_pos/(true_pos+false_neg)\n",
    "precision = true_pos/(true_pos+false_pos)\n",
    " \n",
    "assert true_pos + false_neg==actual_pos\n",
    "assert true_neg + false_pos==actual_neg\n",
    "assert len(preds)==len(labels)\n",
    "assert actual_pos + actual_neg==len(labels)                  \n",
    "assert  true_pos + false_pos == pred_pos\n",
    "assert true_neg + false_neg== pred_neg\n",
    "assert pred_pos + pred_neg==len(preds)\n",
    "\n",
    "print(f'Recall={recall:.2f}')\n",
    "print(f'Precision={precision:.2f}')\n",
    " "
   ]
  },
  {
   "cell_type": "markdown",
   "metadata": {},
   "source": [
    "Show confusion matrix."
   ]
  },
  {
   "cell_type": "code",
   "execution_count": null,
   "metadata": {},
   "outputs": [],
   "source": [
    "pd.crosstab(index=np.array(labels), columns=np.array(preds))"
   ]
  },
  {
   "cell_type": "markdown",
   "metadata": {},
   "source": [
    " "
   ]
  },
  {
   "cell_type": "markdown",
   "metadata": {},
   "source": [
    "Clean up to save money"
   ]
  },
  {
   "cell_type": "code",
   "execution_count": null,
   "metadata": {},
   "outputs": [],
   "source": [
    "session.delete_endpoint(xgb_predictor.endpoint)"
   ]
  },
  {
   "cell_type": "code",
   "execution_count": null,
   "metadata": {},
   "outputs": [],
   "source": []
  }
 ],
 "metadata": {
  "kernelspec": {
   "display_name": "conda_python3",
   "language": "python",
   "name": "conda_python3"
  },
  "language_info": {
   "codemirror_mode": {
    "name": "ipython",
    "version": 3
   },
   "file_extension": ".py",
   "mimetype": "text/x-python",
   "name": "python",
   "nbconvert_exporter": "python",
   "pygments_lexer": "ipython3",
   "version": "3.6.10"
  },
  "notice": "Copyright 2017 Amazon.com, Inc. or its affiliates. All Rights Reserved.  Licensed under the Apache License, Version 2.0 (the \"License\"). You may not use this file except in compliance with the License. A copy of the License is located at http://aws.amazon.com/apache2.0/ or in the \"license\" file accompanying this file. This file is distributed on an \"AS IS\" BASIS, WITHOUT WARRANTIES OR CONDITIONS OF ANY KIND, either express or implied. See the License for the specific language governing permissions and limitations under the License."
 },
 "nbformat": 4,
 "nbformat_minor": 4
}
